{
 "cells": [
  {
   "cell_type": "code",
   "execution_count": 5,
   "id": "ccd56997-15e4-425f-9686-1f16a29de90d",
   "metadata": {},
   "outputs": [
    {
     "data": {
      "text/plain": [
       "['abishek', 'bhandari', 1, 2, 3, 5.7, 2.5]"
      ]
     },
     "execution_count": 5,
     "metadata": {},
     "output_type": "execute_result"
    }
   ],
   "source": [
    "list_mix = ['abishek', 'bhandari', 1, 2, 3, 5.7, 2.5]\n",
    "list_mix"
   ]
  },
  {
   "cell_type": "code",
   "execution_count": 7,
   "id": "6687e960-8513-4988-865c-f9ba394ec7b5",
   "metadata": {},
   "outputs": [
    {
     "data": {
      "text/plain": [
       "['bhandari', 1, 2, 3, 5.7, 2.5]"
      ]
     },
     "execution_count": 7,
     "metadata": {},
     "output_type": "execute_result"
    }
   ],
   "source": [
    "list_mix.pop(0)\n",
    "list_mix"
   ]
  },
  {
   "cell_type": "code",
   "execution_count": null,
   "id": "40a736b1-9871-4270-811f-2d1f7b83ef2e",
   "metadata": {},
   "outputs": [],
   "source": []
  }
 ],
 "metadata": {
  "kernelspec": {
   "display_name": "Python 3 (ipykernel)",
   "language": "python",
   "name": "python3"
  },
  "language_info": {
   "codemirror_mode": {
    "name": "ipython",
    "version": 3
   },
   "file_extension": ".py",
   "mimetype": "text/x-python",
   "name": "python",
   "nbconvert_exporter": "python",
   "pygments_lexer": "ipython3",
   "version": "3.12.7"
  }
 },
 "nbformat": 4,
 "nbformat_minor": 5
}
