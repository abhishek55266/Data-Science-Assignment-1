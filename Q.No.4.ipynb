{
 "cells": [
  {
   "cell_type": "code",
   "execution_count": 12,
   "id": "4244fe1d-d5e8-4ab4-b0ed-ad1fabf72c5b",
   "metadata": {},
   "outputs": [
    {
     "data": {
      "text/plain": [
       "['Bahubali', 'Magadheera', 'RRR']"
      ]
     },
     "execution_count": 12,
     "metadata": {},
     "output_type": "execute_result"
    }
   ],
   "source": [
    "list_a = ['Bahubali', 'Magadheera', 'RRR']\n",
    "list_a\n"
   ]
  },
  {
   "cell_type": "code",
   "execution_count": 14,
   "id": "3ac34bd5-e3bf-46ca-bdf2-f2eb4e0b4e8f",
   "metadata": {},
   "outputs": [
    {
     "data": {
      "text/plain": [
       "['Bahubali', 'Magadheera', 'RRR', 'KGF']"
      ]
     },
     "execution_count": 14,
     "metadata": {},
     "output_type": "execute_result"
    }
   ],
   "source": [
    "list_a.append('KGF')\n",
    "list_a"
   ]
  },
  {
   "cell_type": "code",
   "execution_count": null,
   "id": "ba983e15-c784-4b24-9f83-f88f3c41f663",
   "metadata": {},
   "outputs": [],
   "source": []
  }
 ],
 "metadata": {
  "kernelspec": {
   "display_name": "Python 3 (ipykernel)",
   "language": "python",
   "name": "python3"
  },
  "language_info": {
   "codemirror_mode": {
    "name": "ipython",
    "version": 3
   },
   "file_extension": ".py",
   "mimetype": "text/x-python",
   "name": "python",
   "nbconvert_exporter": "python",
   "pygments_lexer": "ipython3",
   "version": "3.12.7"
  }
 },
 "nbformat": 4,
 "nbformat_minor": 5
}
