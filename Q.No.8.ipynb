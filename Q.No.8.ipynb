{
 "cells": [
  {
   "cell_type": "code",
   "execution_count": 9,
   "id": "402db921-f4cf-4d79-84de-4a3508472691",
   "metadata": {},
   "outputs": [
    {
     "data": {
      "text/plain": [
       "('black', 'orange', 'red', 'white')"
      ]
     },
     "execution_count": 9,
     "metadata": {},
     "output_type": "execute_result"
    }
   ],
   "source": [
    "tuple_color = ('black', 'orange', 'red', 'white')\n",
    "tuple_color"
   ]
  },
  {
   "cell_type": "code",
   "execution_count": 15,
   "id": "ad41ab44-89f8-4bda-8167-5b3164e7509c",
   "metadata": {},
   "outputs": [
    {
     "data": {
      "text/plain": [
       "['black']"
      ]
     },
     "execution_count": 15,
     "metadata": {},
     "output_type": "execute_result"
    }
   ],
   "source": [
    "in_tuple=[item for item in tuple_color if item=='black']\n",
    "in_tuple"
   ]
  },
  {
   "cell_type": "code",
   "execution_count": null,
   "id": "42c03f69-857d-458d-812e-c7c69aa94091",
   "metadata": {},
   "outputs": [],
   "source": []
  }
 ],
 "metadata": {
  "kernelspec": {
   "display_name": "Python 3 (ipykernel)",
   "language": "python",
   "name": "python3"
  },
  "language_info": {
   "codemirror_mode": {
    "name": "ipython",
    "version": 3
   },
   "file_extension": ".py",
   "mimetype": "text/x-python",
   "name": "python",
   "nbconvert_exporter": "python",
   "pygments_lexer": "ipython3",
   "version": "3.12.7"
  }
 },
 "nbformat": 4,
 "nbformat_minor": 5
}
