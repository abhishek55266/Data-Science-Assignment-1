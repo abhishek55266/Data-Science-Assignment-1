{
 "cells": [
  {
   "cell_type": "code",
   "execution_count": 1,
   "id": "41503fbe-7941-40c3-ac69-1e01506e956c",
   "metadata": {},
   "outputs": [
    {
     "data": {
      "text/plain": [
       "{'title': 'Muna Madan', 'author': 'Laxmi P. Devkota', 'year': '1993'}"
      ]
     },
     "execution_count": 1,
     "metadata": {},
     "output_type": "execute_result"
    }
   ],
   "source": [
    "dictionary_book = {\"title\":\"Muna Madan\", \"author\":\"Laxmi P. Devkota\", \"year\":\"1993\"}\n",
    "dictionary_book"
   ]
  },
  {
   "cell_type": "code",
   "execution_count": 5,
   "id": "fe6dbdbb-815d-48cd-b4ac-a900e97b5222",
   "metadata": {},
   "outputs": [
    {
     "data": {
      "text/plain": [
       "{'title': 'Muna Madan', 'author': 'Laxmi P. Devkota', 'year': 2003}"
      ]
     },
     "execution_count": 5,
     "metadata": {},
     "output_type": "execute_result"
    }
   ],
   "source": [
    "dictionary_book[\"year\"] = 2003\n",
    "dictionary_book"
   ]
  },
  {
   "cell_type": "code",
   "execution_count": null,
   "id": "7db1a484-1413-4acc-9356-16af801b59fe",
   "metadata": {},
   "outputs": [],
   "source": []
  }
 ],
 "metadata": {
  "kernelspec": {
   "display_name": "Python 3 (ipykernel)",
   "language": "python",
   "name": "python3"
  },
  "language_info": {
   "codemirror_mode": {
    "name": "ipython",
    "version": 3
   },
   "file_extension": ".py",
   "mimetype": "text/x-python",
   "name": "python",
   "nbconvert_exporter": "python",
   "pygments_lexer": "ipython3",
   "version": "3.12.7"
  }
 },
 "nbformat": 4,
 "nbformat_minor": 5
}
