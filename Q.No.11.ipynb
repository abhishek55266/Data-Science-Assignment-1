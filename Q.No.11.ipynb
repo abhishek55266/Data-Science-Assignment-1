{
 "cells": [
  {
   "cell_type": "code",
   "execution_count": 3,
   "id": "9db081a4-e879-4631-a9c0-603638fb3a37",
   "metadata": {},
   "outputs": [
    {
     "data": {
      "text/plain": [
       "{'Kathmandu': '2400000', 'Bhaktapur': '2000000', 'Lalitpur': '1500000'}"
      ]
     },
     "execution_count": 3,
     "metadata": {},
     "output_type": "execute_result"
    }
   ],
   "source": [
    "dictionary_cities = {\"Kathmandu\":\"2400000\", \"Bhaktapur\":\"2000000\", \"Lalitpur\":\"1500000\"}\n",
    "dictionary_cities"
   ]
  },
  {
   "cell_type": "code",
   "execution_count": 5,
   "id": "9fb3dd4c-48aa-4354-a4b7-7a8a1576b60f",
   "metadata": {},
   "outputs": [
    {
     "data": {
      "text/plain": [
       "{'Kathmandu': '2400000', 'Bhaktapur': '2000000'}"
      ]
     },
     "execution_count": 5,
     "metadata": {},
     "output_type": "execute_result"
    }
   ],
   "source": [
    "dictionary_cities.pop('Lalitpur')\n",
    "dictionary_cities"
   ]
  },
  {
   "cell_type": "code",
   "execution_count": null,
   "id": "94487e69-d331-4f1a-bc9a-6be3e2b0f8c9",
   "metadata": {},
   "outputs": [],
   "source": []
  }
 ],
 "metadata": {
  "kernelspec": {
   "display_name": "Python 3 (ipykernel)",
   "language": "python",
   "name": "python3"
  },
  "language_info": {
   "codemirror_mode": {
    "name": "ipython",
    "version": 3
   },
   "file_extension": ".py",
   "mimetype": "text/x-python",
   "name": "python",
   "nbconvert_exporter": "python",
   "pygments_lexer": "ipython3",
   "version": "3.12.7"
  }
 },
 "nbformat": 4,
 "nbformat_minor": 5
}
