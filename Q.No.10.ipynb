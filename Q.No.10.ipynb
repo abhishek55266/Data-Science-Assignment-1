{
 "cells": [
  {
   "cell_type": "code",
   "execution_count": 9,
   "id": "407361bf-a260-4445-83ce-ebb844cac248",
   "metadata": {},
   "outputs": [
    {
     "data": {
      "text/plain": [
       "{'Grapes': 'Green', 'Mango': 'Yellow', 'Apple': 'Red'}"
      ]
     },
     "execution_count": 9,
     "metadata": {},
     "output_type": "execute_result"
    }
   ],
   "source": [
    "dictionary_fruits = {\"Grapes\":\"Green\", \"Mango\":\"Yellow\", \"Apple\":\"Red\"}\n",
    "dictionary_fruits"
   ]
  },
  {
   "cell_type": "code",
   "execution_count": 11,
   "id": "a719e6aa-058b-4ba2-93b5-b4393b7aa713",
   "metadata": {},
   "outputs": [
    {
     "data": {
      "text/plain": [
       "{'Grapes': 'Purple', 'Mango': 'Yellow', 'Apple': 'Red'}"
      ]
     },
     "execution_count": 11,
     "metadata": {},
     "output_type": "execute_result"
    }
   ],
   "source": [
    "dictionary_fruits.update({\"Grapes\":\"Purple\"})\n",
    "dictionary_fruits"
   ]
  },
  {
   "cell_type": "code",
   "execution_count": null,
   "id": "96dd6802-0388-4fbe-9872-b28215b80cb4",
   "metadata": {},
   "outputs": [],
   "source": []
  }
 ],
 "metadata": {
  "kernelspec": {
   "display_name": "Python 3 (ipykernel)",
   "language": "python",
   "name": "python3"
  },
  "language_info": {
   "codemirror_mode": {
    "name": "ipython",
    "version": 3
   },
   "file_extension": ".py",
   "mimetype": "text/x-python",
   "name": "python",
   "nbconvert_exporter": "python",
   "pygments_lexer": "ipython3",
   "version": "3.12.7"
  }
 },
 "nbformat": 4,
 "nbformat_minor": 5
}
